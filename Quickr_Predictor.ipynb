{
  "nbformat": 4,
  "nbformat_minor": 0,
  "metadata": {
    "colab": {
      "provenance": [],
      "authorship_tag": "ABX9TyO2R5VBFRzbTO2Noqg0P6Vs",
      "include_colab_link": true
    },
    "kernelspec": {
      "name": "python3",
      "display_name": "Python 3"
    },
    "language_info": {
      "name": "python"
    }
  },
  "cells": [
    {
      "cell_type": "markdown",
      "metadata": {
        "id": "view-in-github",
        "colab_type": "text"
      },
      "source": [
        "<a href=\"https://colab.research.google.com/github/Anshul1963/Quikr-Predictor/blob/main/Quickr_Predictor.ipynb\" target=\"_parent\"><img src=\"https://colab.research.google.com/assets/colab-badge.svg\" alt=\"Open In Colab\"/></a>"
      ]
    },
    {
      "cell_type": "code",
      "execution_count": 102,
      "metadata": {
        "id": "iUW8Xpem3kuc"
      },
      "outputs": [],
      "source": [
        "import pandas as pd"
      ]
    },
    {
      "cell_type": "code",
      "source": [
        "car = pd.read_csv('/content/quikr_car.csv')"
      ],
      "metadata": {
        "id": "iwRVeR7s4i2j"
      },
      "execution_count": 65,
      "outputs": []
    },
    {
      "cell_type": "code",
      "source": [
        "car.head()"
      ],
      "metadata": {
        "colab": {
          "base_uri": "https://localhost:8080/",
          "height": 206
        },
        "id": "0fv1Ir3F4pNI",
        "outputId": "3038eb79-39e3-45f2-f259-05b5888a7136"
      },
      "execution_count": 66,
      "outputs": [
        {
          "output_type": "execute_result",
          "data": {
            "text/plain": [
              "                                     name   company  year          Price  \\\n",
              "0    Hyundai Santro Xing XO eRLX Euro III   Hyundai  2007         80,000   \n",
              "1                 Mahindra Jeep CL550 MDI  Mahindra  2006       4,25,000   \n",
              "2              Maruti Suzuki Alto 800 Vxi    Maruti  2018  Ask For Price   \n",
              "3  Hyundai Grand i10 Magna 1.2 Kappa VTVT   Hyundai  2014       3,25,000   \n",
              "4        Ford EcoSport Titanium 1.5L TDCi      Ford  2014       5,75,000   \n",
              "\n",
              "   kms_driven fuel_type  \n",
              "0  45,000 kms    Petrol  \n",
              "1      40 kms    Diesel  \n",
              "2  22,000 kms    Petrol  \n",
              "3  28,000 kms    Petrol  \n",
              "4  36,000 kms    Diesel  "
            ],
            "text/html": [
              "\n",
              "  <div id=\"df-acfb474a-fcee-4d38-86c1-5ecdfaa89dee\">\n",
              "    <div class=\"colab-df-container\">\n",
              "      <div>\n",
              "<style scoped>\n",
              "    .dataframe tbody tr th:only-of-type {\n",
              "        vertical-align: middle;\n",
              "    }\n",
              "\n",
              "    .dataframe tbody tr th {\n",
              "        vertical-align: top;\n",
              "    }\n",
              "\n",
              "    .dataframe thead th {\n",
              "        text-align: right;\n",
              "    }\n",
              "</style>\n",
              "<table border=\"1\" class=\"dataframe\">\n",
              "  <thead>\n",
              "    <tr style=\"text-align: right;\">\n",
              "      <th></th>\n",
              "      <th>name</th>\n",
              "      <th>company</th>\n",
              "      <th>year</th>\n",
              "      <th>Price</th>\n",
              "      <th>kms_driven</th>\n",
              "      <th>fuel_type</th>\n",
              "    </tr>\n",
              "  </thead>\n",
              "  <tbody>\n",
              "    <tr>\n",
              "      <th>0</th>\n",
              "      <td>Hyundai Santro Xing XO eRLX Euro III</td>\n",
              "      <td>Hyundai</td>\n",
              "      <td>2007</td>\n",
              "      <td>80,000</td>\n",
              "      <td>45,000 kms</td>\n",
              "      <td>Petrol</td>\n",
              "    </tr>\n",
              "    <tr>\n",
              "      <th>1</th>\n",
              "      <td>Mahindra Jeep CL550 MDI</td>\n",
              "      <td>Mahindra</td>\n",
              "      <td>2006</td>\n",
              "      <td>4,25,000</td>\n",
              "      <td>40 kms</td>\n",
              "      <td>Diesel</td>\n",
              "    </tr>\n",
              "    <tr>\n",
              "      <th>2</th>\n",
              "      <td>Maruti Suzuki Alto 800 Vxi</td>\n",
              "      <td>Maruti</td>\n",
              "      <td>2018</td>\n",
              "      <td>Ask For Price</td>\n",
              "      <td>22,000 kms</td>\n",
              "      <td>Petrol</td>\n",
              "    </tr>\n",
              "    <tr>\n",
              "      <th>3</th>\n",
              "      <td>Hyundai Grand i10 Magna 1.2 Kappa VTVT</td>\n",
              "      <td>Hyundai</td>\n",
              "      <td>2014</td>\n",
              "      <td>3,25,000</td>\n",
              "      <td>28,000 kms</td>\n",
              "      <td>Petrol</td>\n",
              "    </tr>\n",
              "    <tr>\n",
              "      <th>4</th>\n",
              "      <td>Ford EcoSport Titanium 1.5L TDCi</td>\n",
              "      <td>Ford</td>\n",
              "      <td>2014</td>\n",
              "      <td>5,75,000</td>\n",
              "      <td>36,000 kms</td>\n",
              "      <td>Diesel</td>\n",
              "    </tr>\n",
              "  </tbody>\n",
              "</table>\n",
              "</div>\n",
              "      <button class=\"colab-df-convert\" onclick=\"convertToInteractive('df-acfb474a-fcee-4d38-86c1-5ecdfaa89dee')\"\n",
              "              title=\"Convert this dataframe to an interactive table.\"\n",
              "              style=\"display:none;\">\n",
              "        \n",
              "  <svg xmlns=\"http://www.w3.org/2000/svg\" height=\"24px\"viewBox=\"0 0 24 24\"\n",
              "       width=\"24px\">\n",
              "    <path d=\"M0 0h24v24H0V0z\" fill=\"none\"/>\n",
              "    <path d=\"M18.56 5.44l.94 2.06.94-2.06 2.06-.94-2.06-.94-.94-2.06-.94 2.06-2.06.94zm-11 1L8.5 8.5l.94-2.06 2.06-.94-2.06-.94L8.5 2.5l-.94 2.06-2.06.94zm10 10l.94 2.06.94-2.06 2.06-.94-2.06-.94-.94-2.06-.94 2.06-2.06.94z\"/><path d=\"M17.41 7.96l-1.37-1.37c-.4-.4-.92-.59-1.43-.59-.52 0-1.04.2-1.43.59L10.3 9.45l-7.72 7.72c-.78.78-.78 2.05 0 2.83L4 21.41c.39.39.9.59 1.41.59.51 0 1.02-.2 1.41-.59l7.78-7.78 2.81-2.81c.8-.78.8-2.07 0-2.86zM5.41 20L4 18.59l7.72-7.72 1.47 1.35L5.41 20z\"/>\n",
              "  </svg>\n",
              "      </button>\n",
              "      \n",
              "  <style>\n",
              "    .colab-df-container {\n",
              "      display:flex;\n",
              "      flex-wrap:wrap;\n",
              "      gap: 12px;\n",
              "    }\n",
              "\n",
              "    .colab-df-convert {\n",
              "      background-color: #E8F0FE;\n",
              "      border: none;\n",
              "      border-radius: 50%;\n",
              "      cursor: pointer;\n",
              "      display: none;\n",
              "      fill: #1967D2;\n",
              "      height: 32px;\n",
              "      padding: 0 0 0 0;\n",
              "      width: 32px;\n",
              "    }\n",
              "\n",
              "    .colab-df-convert:hover {\n",
              "      background-color: #E2EBFA;\n",
              "      box-shadow: 0px 1px 2px rgba(60, 64, 67, 0.3), 0px 1px 3px 1px rgba(60, 64, 67, 0.15);\n",
              "      fill: #174EA6;\n",
              "    }\n",
              "\n",
              "    [theme=dark] .colab-df-convert {\n",
              "      background-color: #3B4455;\n",
              "      fill: #D2E3FC;\n",
              "    }\n",
              "\n",
              "    [theme=dark] .colab-df-convert:hover {\n",
              "      background-color: #434B5C;\n",
              "      box-shadow: 0px 1px 3px 1px rgba(0, 0, 0, 0.15);\n",
              "      filter: drop-shadow(0px 1px 2px rgba(0, 0, 0, 0.3));\n",
              "      fill: #FFFFFF;\n",
              "    }\n",
              "  </style>\n",
              "\n",
              "      <script>\n",
              "        const buttonEl =\n",
              "          document.querySelector('#df-acfb474a-fcee-4d38-86c1-5ecdfaa89dee button.colab-df-convert');\n",
              "        buttonEl.style.display =\n",
              "          google.colab.kernel.accessAllowed ? 'block' : 'none';\n",
              "\n",
              "        async function convertToInteractive(key) {\n",
              "          const element = document.querySelector('#df-acfb474a-fcee-4d38-86c1-5ecdfaa89dee');\n",
              "          const dataTable =\n",
              "            await google.colab.kernel.invokeFunction('convertToInteractive',\n",
              "                                                     [key], {});\n",
              "          if (!dataTable) return;\n",
              "\n",
              "          const docLinkHtml = 'Like what you see? Visit the ' +\n",
              "            '<a target=\"_blank\" href=https://colab.research.google.com/notebooks/data_table.ipynb>data table notebook</a>'\n",
              "            + ' to learn more about interactive tables.';\n",
              "          element.innerHTML = '';\n",
              "          dataTable['output_type'] = 'display_data';\n",
              "          await google.colab.output.renderOutput(dataTable, element);\n",
              "          const docLink = document.createElement('div');\n",
              "          docLink.innerHTML = docLinkHtml;\n",
              "          element.appendChild(docLink);\n",
              "        }\n",
              "      </script>\n",
              "    </div>\n",
              "  </div>\n",
              "  "
            ]
          },
          "metadata": {},
          "execution_count": 66
        }
      ]
    },
    {
      "cell_type": "code",
      "source": [
        "car.shape"
      ],
      "metadata": {
        "colab": {
          "base_uri": "https://localhost:8080/"
        },
        "id": "JI2uLMYy5IEH",
        "outputId": "c2eb3961-9796-4501-8262-8ef00cb43b28"
      },
      "execution_count": 67,
      "outputs": [
        {
          "output_type": "execute_result",
          "data": {
            "text/plain": [
              "(892, 6)"
            ]
          },
          "metadata": {},
          "execution_count": 67
        }
      ]
    },
    {
      "cell_type": "code",
      "source": [
        "car.info()"
      ],
      "metadata": {
        "colab": {
          "base_uri": "https://localhost:8080/"
        },
        "id": "4xzc8GLu5NqT",
        "outputId": "86ee1626-a1f5-45d9-f6eb-a85c807928ff"
      },
      "execution_count": 68,
      "outputs": [
        {
          "output_type": "stream",
          "name": "stdout",
          "text": [
            "<class 'pandas.core.frame.DataFrame'>\n",
            "RangeIndex: 892 entries, 0 to 891\n",
            "Data columns (total 6 columns):\n",
            " #   Column      Non-Null Count  Dtype \n",
            "---  ------      --------------  ----- \n",
            " 0   name        892 non-null    object\n",
            " 1   company     892 non-null    object\n",
            " 2   year        892 non-null    object\n",
            " 3   Price       892 non-null    object\n",
            " 4   kms_driven  840 non-null    object\n",
            " 5   fuel_type   837 non-null    object\n",
            "dtypes: object(6)\n",
            "memory usage: 41.9+ KB\n"
          ]
        }
      ]
    },
    {
      "cell_type": "markdown",
      "source": [
        "## Quality Errors\n",
        "-Year and Price columns have garbage values and data type is object, that we need to convert into 'int' type.\n",
        "\n",
        "-kms_driven column value has kms with object values.\n",
        "\n",
        "-fuel type has NAN values "
      ],
      "metadata": {
        "id": "Fak9BAHe7eSK"
      }
    },
    {
      "cell_type": "code",
      "source": [
        "# Garbage values\n",
        "car['year'].unique()"
      ],
      "metadata": {
        "colab": {
          "base_uri": "https://localhost:8080/"
        },
        "id": "w18M4P-A6FqT",
        "outputId": "3a0ec660-942d-4412-a7e1-679999c06caf"
      },
      "execution_count": 69,
      "outputs": [
        {
          "output_type": "execute_result",
          "data": {
            "text/plain": [
              "array(['2007', '2006', '2018', '2014', '2015', '2012', '2013', '2016',\n",
              "       '2010', '2017', '2008', '2011', '2019', '2009', '2005', '2000',\n",
              "       '...', '150k', 'TOUR', '2003', 'r 15', '2004', 'Zest', '/-Rs',\n",
              "       'sale', '1995', 'ara)', '2002', 'SELL', '2001', 'tion', 'odel',\n",
              "       '2 bs', 'arry', 'Eon', 'o...', 'ture', 'emi', 'car', 'able', 'no.',\n",
              "       'd...', 'SALE', 'digo', 'sell', 'd Ex', 'n...', 'e...', 'D...',\n",
              "       ', Ac', 'go .', 'k...', 'o c4', 'zire', 'cent', 'Sumo', 'cab',\n",
              "       't xe', 'EV2', 'r...', 'zest'], dtype=object)"
            ]
          },
          "metadata": {},
          "execution_count": 69
        }
      ]
    },
    {
      "cell_type": "code",
      "source": [
        "## Again garbege value is present\n",
        "car['Price'].unique()"
      ],
      "metadata": {
        "colab": {
          "base_uri": "https://localhost:8080/"
        },
        "id": "hXVxVz7Y6vKP",
        "outputId": "ba15e7a3-6943-47f4-fb43-3173565a1738"
      },
      "execution_count": 60,
      "outputs": [
        {
          "output_type": "execute_result",
          "data": {
            "text/plain": [
              "array([  80000,  425000,  325000,  575000,  175000,  190000,  830000,\n",
              "        250000,  182000,  315000,  415000,  320000, 1000000,  500000,\n",
              "        350000,  160000,  310000,   75000,  100000,  290000,   95000,\n",
              "        180000,  385000,  105000,  650000,  689999,  448000,  549000,\n",
              "        501000,  489999,  280000,  349999,  284999,  345000,  499999,\n",
              "        235000,  249999, 1475000,  395000,  220000,  170000,   85000,\n",
              "        200000,  570000,  110000,  448999, 1891111,  159500,  344999,\n",
              "        449999,  865000,  699000,  375000,  224999, 1200000,  195000,\n",
              "        351000,  240000,   90000,  155000,  600000,  189500,  210000,\n",
              "        390000,  135000, 1600000,  701000,  265000,  525000,  372000,\n",
              "        635000,  550000,  485000,  329500,  251111,  569999,   69999,\n",
              "        299999,  399999,  450000,  270000,  158400,  179000,  125000,\n",
              "        299000,  150000,  275000,  285000,  340000,   70000,  289999,\n",
              "        849999,  749999,  274999,  984999,  599999,  244999,  474999,\n",
              "        245000,  169500,  370000,  168000,  145000,   98500,  209000,\n",
              "        185000,  900000,  699999,  199999,  544999,  199000,  540000,\n",
              "         49000,  700000,   55000,  895000,  355000,  565000,  365000,\n",
              "         40000,  400000,  330000,  580000,  379000,  219000,  519000,\n",
              "        730000, 2000000, 2100000, 1400000,  311000,  855000,  535000,\n",
              "        178000,  300000,  255000,  549999,  380000,   57000,  410000,\n",
              "        225000,  120000,   59000,  599000,  675000,   72500,  610000,\n",
              "        230000,  520000,  524999,  424999,  644999,  584999,  799999,\n",
              "        444999,  649999,  944999,  574999,  374999,  130000,  401000,\n",
              "       1350000,  174999,  239999,   99999,  324999, 1074999, 1130000,\n",
              "        149000,  770000,   30000,  335000,  399000,   65000,  169999,\n",
              "        165000,  560000,  950000,  715000,   45000,  940000,  155555,\n",
              "       1500000,  495000,  800000, 1299000,  530000, 1499000,   32000,\n",
              "        405000,  760000,  750000,  419000,  140000, 1540000,  123000,\n",
              "        498000,  480000,  488000, 1525000,  548900,  725000,   99000,\n",
              "         52000, 2800000,  499000,  381000,  278000,  690000,  260000,\n",
              "         90001,  115000, 1599000,  159000,   51999,  215000,   35000,\n",
              "       1150000,  269000,   60000,  430000, 8500003,  401919,  490000,\n",
              "        424000,  205000,  549900,  435000,  189700,  389700,  360000,\n",
              "        295000,  114990, 1065000,  470000,   48000,  188000,  465000,\n",
              "        179999, 2190000, 2390000, 1075000,  475000, 1025000,  615000,\n",
              "       1900000, 1490000, 1510000, 1850000,  790000, 1725000, 1225000,\n",
              "         68000,  970000, 3100000,  899000,   88000,   53000,  568500,\n",
              "         71000,  590000,  795000,   42000,  189000,  162000,   35999,\n",
              "       2900000,   39999,   50500,  510000,  860000,  500001])"
            ]
          },
          "metadata": {},
          "execution_count": 60
        }
      ]
    },
    {
      "cell_type": "markdown",
      "source": [
        "#**Let's start cleaning.**"
      ],
      "metadata": {
        "id": "4RGLoxAf8a06"
      }
    },
    {
      "cell_type": "code",
      "source": [
        "backup = car.copy()"
      ],
      "metadata": {
        "id": "Jvfo9QcU8Qju"
      },
      "execution_count": 72,
      "outputs": []
    },
    {
      "cell_type": "code",
      "source": [
        "car = car[car['year'].str.isnumeric()]"
      ],
      "metadata": {
        "id": "AXV8KFqG-DvZ"
      },
      "execution_count": 73,
      "outputs": []
    },
    {
      "cell_type": "code",
      "source": [
        "car['year'] = car['year'].astype(int)"
      ],
      "metadata": {
        "id": "j310cPtG-YCu"
      },
      "execution_count": 74,
      "outputs": []
    },
    {
      "cell_type": "code",
      "source": [
        "car.info()"
      ],
      "metadata": {
        "colab": {
          "base_uri": "https://localhost:8080/"
        },
        "id": "TCOLIWYY_TN2",
        "outputId": "01c99209-ffdc-4f7b-f520-9c9554a9b0a7"
      },
      "execution_count": 75,
      "outputs": [
        {
          "output_type": "stream",
          "name": "stdout",
          "text": [
            "<class 'pandas.core.frame.DataFrame'>\n",
            "Int64Index: 842 entries, 0 to 891\n",
            "Data columns (total 6 columns):\n",
            " #   Column      Non-Null Count  Dtype \n",
            "---  ------      --------------  ----- \n",
            " 0   name        842 non-null    object\n",
            " 1   company     842 non-null    object\n",
            " 2   year        842 non-null    int64 \n",
            " 3   Price       842 non-null    object\n",
            " 4   kms_driven  840 non-null    object\n",
            " 5   fuel_type   837 non-null    object\n",
            "dtypes: int64(1), object(5)\n",
            "memory usage: 46.0+ KB\n"
          ]
        }
      ]
    },
    {
      "cell_type": "code",
      "source": [
        "#remove garbage value from Price column\n",
        "car = car[car['Price'] != \"Ask For Price\"]"
      ],
      "metadata": {
        "id": "YfS3L2G3A47h"
      },
      "execution_count": 76,
      "outputs": []
    },
    {
      "cell_type": "markdown",
      "source": [
        "**changing datatype of Price column to int and replacing comma from it's values.**"
      ],
      "metadata": {
        "id": "o1j5TQ8yGU2h"
      }
    },
    {
      "cell_type": "code",
      "source": [
        "car['Price'] = car['Price'].str.replace(',','').astype(int)"
      ],
      "metadata": {
        "id": "2qz_1cxLDVi8"
      },
      "execution_count": 77,
      "outputs": []
    },
    {
      "cell_type": "markdown",
      "source": [
        "**kms_driven : 1. splitting value  2.taking first value i.e number\n",
        "          3. replacing comma from number**"
      ],
      "metadata": {
        "id": "M89-dqR-HOLx"
      }
    },
    {
      "cell_type": "code",
      "source": [
        "car['kms_driven'] = car['kms_driven'].str.split(' ').str.get(0).str.replace(',','')"
      ],
      "metadata": {
        "id": "hLxfzjGbEGfB"
      },
      "execution_count": 80,
      "outputs": []
    },
    {
      "cell_type": "code",
      "source": [
        "car = car[car['kms_driven'].str.isnumeric()]"
      ],
      "metadata": {
        "id": "ElVgwRG4Hh26"
      },
      "execution_count": 83,
      "outputs": []
    },
    {
      "cell_type": "code",
      "source": [
        "car['kms_driven'] = car['kms_driven'].astype(int)"
      ],
      "metadata": {
        "id": "5lI9snX7IKMw"
      },
      "execution_count": 84,
      "outputs": []
    },
    {
      "cell_type": "code",
      "source": [
        "car.info()"
      ],
      "metadata": {
        "colab": {
          "base_uri": "https://localhost:8080/"
        },
        "id": "IMORdPKLIVa7",
        "outputId": "0ca10e3b-7bac-4fd3-a8ae-b2f2ba1b3d6d"
      },
      "execution_count": 85,
      "outputs": [
        {
          "output_type": "stream",
          "name": "stdout",
          "text": [
            "<class 'pandas.core.frame.DataFrame'>\n",
            "Int64Index: 817 entries, 0 to 889\n",
            "Data columns (total 6 columns):\n",
            " #   Column      Non-Null Count  Dtype \n",
            "---  ------      --------------  ----- \n",
            " 0   name        817 non-null    object\n",
            " 1   company     817 non-null    object\n",
            " 2   year        817 non-null    int64 \n",
            " 3   Price       817 non-null    int64 \n",
            " 4   kms_driven  817 non-null    int64 \n",
            " 5   fuel_type   816 non-null    object\n",
            "dtypes: int64(3), object(3)\n",
            "memory usage: 44.7+ KB\n"
          ]
        }
      ]
    },
    {
      "cell_type": "markdown",
      "source": [
        "**Removing NAN value from fuel_type column**"
      ],
      "metadata": {
        "id": "5TwM1vOpJAu7"
      }
    },
    {
      "cell_type": "code",
      "source": [
        "car = car[~car['fuel_type'].isna()]"
      ],
      "metadata": {
        "id": "EuI98RJuIjeJ"
      },
      "execution_count": 89,
      "outputs": []
    },
    {
      "cell_type": "markdown",
      "source": [
        "**Taking first three words of name to make it simpler.**"
      ],
      "metadata": {
        "id": "PKJvfVk8KjQN"
      }
    },
    {
      "cell_type": "code",
      "source": [
        "car['name'] = car['name'].str.split(' ').str.slice(0,3).str.join(' ')"
      ],
      "metadata": {
        "id": "9f32CmcvJFoe"
      },
      "execution_count": 93,
      "outputs": []
    },
    {
      "cell_type": "code",
      "source": [
        "car.reset_index(drop = True)"
      ],
      "metadata": {
        "colab": {
          "base_uri": "https://localhost:8080/",
          "height": 655
        },
        "id": "TMq94Al5Ktuj",
        "outputId": "f7ab13f4-87d3-42de-bfbc-b008a58bd5f2"
      },
      "execution_count": 95,
      "outputs": [
        {
          "output_type": "execute_result",
          "data": {
            "text/plain": [
              "                       name   company  year   Price  kms_driven fuel_type\n",
              "0       Hyundai Santro Xing   Hyundai  2007   80000       45000    Petrol\n",
              "1       Mahindra Jeep CL550  Mahindra  2006  425000          40    Diesel\n",
              "2         Hyundai Grand i10   Hyundai  2014  325000       28000    Petrol\n",
              "3    Ford EcoSport Titanium      Ford  2014  575000       36000    Diesel\n",
              "4                 Ford Figo      Ford  2012  175000       41000    Diesel\n",
              "..                      ...       ...   ...     ...         ...       ...\n",
              "811      Maruti Suzuki Ritz    Maruti  2011  270000       50000    Petrol\n",
              "812          Tata Indica V2      Tata  2009  110000       30000    Diesel\n",
              "813    Toyota Corolla Altis    Toyota  2009  300000      132000    Petrol\n",
              "814            Tata Zest XM      Tata  2018  260000       27000    Diesel\n",
              "815      Mahindra Quanto C8  Mahindra  2013  390000       40000    Diesel\n",
              "\n",
              "[816 rows x 6 columns]"
            ],
            "text/html": [
              "\n",
              "  <div id=\"df-c0c189c2-fa60-4981-ba30-060d0f809565\">\n",
              "    <div class=\"colab-df-container\">\n",
              "      <div>\n",
              "<style scoped>\n",
              "    .dataframe tbody tr th:only-of-type {\n",
              "        vertical-align: middle;\n",
              "    }\n",
              "\n",
              "    .dataframe tbody tr th {\n",
              "        vertical-align: top;\n",
              "    }\n",
              "\n",
              "    .dataframe thead th {\n",
              "        text-align: right;\n",
              "    }\n",
              "</style>\n",
              "<table border=\"1\" class=\"dataframe\">\n",
              "  <thead>\n",
              "    <tr style=\"text-align: right;\">\n",
              "      <th></th>\n",
              "      <th>name</th>\n",
              "      <th>company</th>\n",
              "      <th>year</th>\n",
              "      <th>Price</th>\n",
              "      <th>kms_driven</th>\n",
              "      <th>fuel_type</th>\n",
              "    </tr>\n",
              "  </thead>\n",
              "  <tbody>\n",
              "    <tr>\n",
              "      <th>0</th>\n",
              "      <td>Hyundai Santro Xing</td>\n",
              "      <td>Hyundai</td>\n",
              "      <td>2007</td>\n",
              "      <td>80000</td>\n",
              "      <td>45000</td>\n",
              "      <td>Petrol</td>\n",
              "    </tr>\n",
              "    <tr>\n",
              "      <th>1</th>\n",
              "      <td>Mahindra Jeep CL550</td>\n",
              "      <td>Mahindra</td>\n",
              "      <td>2006</td>\n",
              "      <td>425000</td>\n",
              "      <td>40</td>\n",
              "      <td>Diesel</td>\n",
              "    </tr>\n",
              "    <tr>\n",
              "      <th>2</th>\n",
              "      <td>Hyundai Grand i10</td>\n",
              "      <td>Hyundai</td>\n",
              "      <td>2014</td>\n",
              "      <td>325000</td>\n",
              "      <td>28000</td>\n",
              "      <td>Petrol</td>\n",
              "    </tr>\n",
              "    <tr>\n",
              "      <th>3</th>\n",
              "      <td>Ford EcoSport Titanium</td>\n",
              "      <td>Ford</td>\n",
              "      <td>2014</td>\n",
              "      <td>575000</td>\n",
              "      <td>36000</td>\n",
              "      <td>Diesel</td>\n",
              "    </tr>\n",
              "    <tr>\n",
              "      <th>4</th>\n",
              "      <td>Ford Figo</td>\n",
              "      <td>Ford</td>\n",
              "      <td>2012</td>\n",
              "      <td>175000</td>\n",
              "      <td>41000</td>\n",
              "      <td>Diesel</td>\n",
              "    </tr>\n",
              "    <tr>\n",
              "      <th>...</th>\n",
              "      <td>...</td>\n",
              "      <td>...</td>\n",
              "      <td>...</td>\n",
              "      <td>...</td>\n",
              "      <td>...</td>\n",
              "      <td>...</td>\n",
              "    </tr>\n",
              "    <tr>\n",
              "      <th>811</th>\n",
              "      <td>Maruti Suzuki Ritz</td>\n",
              "      <td>Maruti</td>\n",
              "      <td>2011</td>\n",
              "      <td>270000</td>\n",
              "      <td>50000</td>\n",
              "      <td>Petrol</td>\n",
              "    </tr>\n",
              "    <tr>\n",
              "      <th>812</th>\n",
              "      <td>Tata Indica V2</td>\n",
              "      <td>Tata</td>\n",
              "      <td>2009</td>\n",
              "      <td>110000</td>\n",
              "      <td>30000</td>\n",
              "      <td>Diesel</td>\n",
              "    </tr>\n",
              "    <tr>\n",
              "      <th>813</th>\n",
              "      <td>Toyota Corolla Altis</td>\n",
              "      <td>Toyota</td>\n",
              "      <td>2009</td>\n",
              "      <td>300000</td>\n",
              "      <td>132000</td>\n",
              "      <td>Petrol</td>\n",
              "    </tr>\n",
              "    <tr>\n",
              "      <th>814</th>\n",
              "      <td>Tata Zest XM</td>\n",
              "      <td>Tata</td>\n",
              "      <td>2018</td>\n",
              "      <td>260000</td>\n",
              "      <td>27000</td>\n",
              "      <td>Diesel</td>\n",
              "    </tr>\n",
              "    <tr>\n",
              "      <th>815</th>\n",
              "      <td>Mahindra Quanto C8</td>\n",
              "      <td>Mahindra</td>\n",
              "      <td>2013</td>\n",
              "      <td>390000</td>\n",
              "      <td>40000</td>\n",
              "      <td>Diesel</td>\n",
              "    </tr>\n",
              "  </tbody>\n",
              "</table>\n",
              "<p>816 rows × 6 columns</p>\n",
              "</div>\n",
              "      <button class=\"colab-df-convert\" onclick=\"convertToInteractive('df-c0c189c2-fa60-4981-ba30-060d0f809565')\"\n",
              "              title=\"Convert this dataframe to an interactive table.\"\n",
              "              style=\"display:none;\">\n",
              "        \n",
              "  <svg xmlns=\"http://www.w3.org/2000/svg\" height=\"24px\"viewBox=\"0 0 24 24\"\n",
              "       width=\"24px\">\n",
              "    <path d=\"M0 0h24v24H0V0z\" fill=\"none\"/>\n",
              "    <path d=\"M18.56 5.44l.94 2.06.94-2.06 2.06-.94-2.06-.94-.94-2.06-.94 2.06-2.06.94zm-11 1L8.5 8.5l.94-2.06 2.06-.94-2.06-.94L8.5 2.5l-.94 2.06-2.06.94zm10 10l.94 2.06.94-2.06 2.06-.94-2.06-.94-.94-2.06-.94 2.06-2.06.94z\"/><path d=\"M17.41 7.96l-1.37-1.37c-.4-.4-.92-.59-1.43-.59-.52 0-1.04.2-1.43.59L10.3 9.45l-7.72 7.72c-.78.78-.78 2.05 0 2.83L4 21.41c.39.39.9.59 1.41.59.51 0 1.02-.2 1.41-.59l7.78-7.78 2.81-2.81c.8-.78.8-2.07 0-2.86zM5.41 20L4 18.59l7.72-7.72 1.47 1.35L5.41 20z\"/>\n",
              "  </svg>\n",
              "      </button>\n",
              "      \n",
              "  <style>\n",
              "    .colab-df-container {\n",
              "      display:flex;\n",
              "      flex-wrap:wrap;\n",
              "      gap: 12px;\n",
              "    }\n",
              "\n",
              "    .colab-df-convert {\n",
              "      background-color: #E8F0FE;\n",
              "      border: none;\n",
              "      border-radius: 50%;\n",
              "      cursor: pointer;\n",
              "      display: none;\n",
              "      fill: #1967D2;\n",
              "      height: 32px;\n",
              "      padding: 0 0 0 0;\n",
              "      width: 32px;\n",
              "    }\n",
              "\n",
              "    .colab-df-convert:hover {\n",
              "      background-color: #E2EBFA;\n",
              "      box-shadow: 0px 1px 2px rgba(60, 64, 67, 0.3), 0px 1px 3px 1px rgba(60, 64, 67, 0.15);\n",
              "      fill: #174EA6;\n",
              "    }\n",
              "\n",
              "    [theme=dark] .colab-df-convert {\n",
              "      background-color: #3B4455;\n",
              "      fill: #D2E3FC;\n",
              "    }\n",
              "\n",
              "    [theme=dark] .colab-df-convert:hover {\n",
              "      background-color: #434B5C;\n",
              "      box-shadow: 0px 1px 3px 1px rgba(0, 0, 0, 0.15);\n",
              "      filter: drop-shadow(0px 1px 2px rgba(0, 0, 0, 0.3));\n",
              "      fill: #FFFFFF;\n",
              "    }\n",
              "  </style>\n",
              "\n",
              "      <script>\n",
              "        const buttonEl =\n",
              "          document.querySelector('#df-c0c189c2-fa60-4981-ba30-060d0f809565 button.colab-df-convert');\n",
              "        buttonEl.style.display =\n",
              "          google.colab.kernel.accessAllowed ? 'block' : 'none';\n",
              "\n",
              "        async function convertToInteractive(key) {\n",
              "          const element = document.querySelector('#df-c0c189c2-fa60-4981-ba30-060d0f809565');\n",
              "          const dataTable =\n",
              "            await google.colab.kernel.invokeFunction('convertToInteractive',\n",
              "                                                     [key], {});\n",
              "          if (!dataTable) return;\n",
              "\n",
              "          const docLinkHtml = 'Like what you see? Visit the ' +\n",
              "            '<a target=\"_blank\" href=https://colab.research.google.com/notebooks/data_table.ipynb>data table notebook</a>'\n",
              "            + ' to learn more about interactive tables.';\n",
              "          element.innerHTML = '';\n",
              "          dataTable['output_type'] = 'display_data';\n",
              "          await google.colab.output.renderOutput(dataTable, element);\n",
              "          const docLink = document.createElement('div');\n",
              "          docLink.innerHTML = docLinkHtml;\n",
              "          element.appendChild(docLink);\n",
              "        }\n",
              "      </script>\n",
              "    </div>\n",
              "  </div>\n",
              "  "
            ]
          },
          "metadata": {},
          "execution_count": 95
        }
      ]
    },
    {
      "cell_type": "code",
      "source": [
        "car = car[car['Price']<6e6].reset_index(drop=True)"
      ],
      "metadata": {
        "id": "ktClyvcoN3Kg"
      },
      "execution_count": 97,
      "outputs": []
    },
    {
      "cell_type": "code",
      "source": [
        "car.to_csv('Cleaned car.csv')"
      ],
      "metadata": {
        "id": "QK5o5f7KOTVE"
      },
      "execution_count": 98,
      "outputs": []
    },
    {
      "cell_type": "markdown",
      "source": [
        "# **MODEL**"
      ],
      "metadata": {
        "id": "9xdmaWa9Of4c"
      }
    },
    {
      "cell_type": "code",
      "source": [
        "X = car.drop(columns = 'Price')\n",
        "y = car['Price']"
      ],
      "metadata": {
        "id": "WA_1UXXNOiib"
      },
      "execution_count": 100,
      "outputs": []
    },
    {
      "cell_type": "code",
      "source": [
        "from sklearn.model_selection import train_test_split\n",
        "X_train,X_test,y_train,y_test = train_test_split(X,y, test_size=0.2)"
      ],
      "metadata": {
        "id": "4qa_eAhcPDRT"
      },
      "execution_count": 101,
      "outputs": []
    },
    {
      "cell_type": "code",
      "source": [
        "from sklearn.linear_model import LinearRegression\n",
        "from sklearn.metrics import r2_score\n",
        "from sklearn.preprocessing import OneHotEncoder\n",
        "from sklearn.compose import make_column_transformer\n",
        "from sklearn.pipeline import make_pipeline"
      ],
      "metadata": {
        "id": "8N82Ls5dPpZS"
      },
      "execution_count": 106,
      "outputs": []
    },
    {
      "cell_type": "code",
      "source": [
        "ohe = OneHotEncoder()\n",
        "ohe.fit(X[['name','company','fuel_type']])"
      ],
      "metadata": {
        "colab": {
          "base_uri": "https://localhost:8080/"
        },
        "id": "VyqFdHYtZC8_",
        "outputId": "c19a1c87-a0c8-405c-87bf-6f9100596eb5"
      },
      "execution_count": 107,
      "outputs": [
        {
          "output_type": "execute_result",
          "data": {
            "text/plain": [
              "OneHotEncoder()"
            ]
          },
          "metadata": {},
          "execution_count": 107
        }
      ]
    },
    {
      "cell_type": "code",
      "source": [
        "column_trans = make_column_transformer((OneHotEncoder(categories = ohe.categories_),['name','company','fuel_type']), remainder='passthrough')"
      ],
      "metadata": {
        "id": "LKsph5fsZV9-"
      },
      "execution_count": 112,
      "outputs": []
    },
    {
      "cell_type": "code",
      "source": [
        "lr = LinearRegression()"
      ],
      "metadata": {
        "id": "fsaM8PHaajpG"
      },
      "execution_count": 113,
      "outputs": []
    },
    {
      "cell_type": "code",
      "source": [
        "pipe = make_pipeline(column_trans, lr)"
      ],
      "metadata": {
        "id": "OdaOmCVeap9z"
      },
      "execution_count": 114,
      "outputs": []
    },
    {
      "cell_type": "code",
      "source": [
        "pipe.fit(X_train, y_train)"
      ],
      "metadata": {
        "colab": {
          "base_uri": "https://localhost:8080/"
        },
        "id": "Iplr5KzJbex_",
        "outputId": "78418e94-5569-483f-adf2-d383a2fdca92"
      },
      "execution_count": 115,
      "outputs": [
        {
          "output_type": "execute_result",
          "data": {
            "text/plain": [
              "Pipeline(steps=[('columntransformer',\n",
              "                 ColumnTransformer(remainder='passthrough',\n",
              "                                   transformers=[('onehotencoder',\n",
              "                                                  OneHotEncoder(categories=[array(['Audi A3 Cabriolet', 'Audi A4 1.8', 'Audi A4 2.0', 'Audi A6 2.0',\n",
              "       'Audi A8', 'Audi Q3 2.0', 'Audi Q5 2.0', 'Audi Q7', 'BMW 3 Series',\n",
              "       'BMW 5 Series', 'BMW 7 Series', 'BMW X1', 'BMW X1 sDrive20d',\n",
              "       'BMW X1 xDrive20d', 'Chevrolet Beat', 'Chevrolet Beat...\n",
              "                                                                            array(['Audi', 'BMW', 'Chevrolet', 'Datsun', 'Fiat', 'Force', 'Ford',\n",
              "       'Hindustan', 'Honda', 'Hyundai', 'Jaguar', 'Jeep', 'Land',\n",
              "       'Mahindra', 'Maruti', 'Mercedes', 'Mini', 'Mitsubishi', 'Nissan',\n",
              "       'Renault', 'Skoda', 'Tata', 'Toyota', 'Volkswagen', 'Volvo'],\n",
              "      dtype=object),\n",
              "                                                                            array(['Diesel', 'LPG', 'Petrol'], dtype=object)]),\n",
              "                                                  ['name', 'company',\n",
              "                                                   'fuel_type'])])),\n",
              "                ('linearregression', LinearRegression())])"
            ]
          },
          "metadata": {},
          "execution_count": 115
        }
      ]
    },
    {
      "cell_type": "code",
      "source": [
        "y_pred = pipe.predict(X_test)"
      ],
      "metadata": {
        "id": "nIZ3pf7zcFu2"
      },
      "execution_count": 117,
      "outputs": []
    },
    {
      "cell_type": "code",
      "source": [
        "r2_score(y_test, y_pred)"
      ],
      "metadata": {
        "colab": {
          "base_uri": "https://localhost:8080/"
        },
        "id": "QxCkpth6cc5s",
        "outputId": "7b2e2ad6-b1f2-415e-f64e-bef7ef25805d"
      },
      "execution_count": 120,
      "outputs": [
        {
          "output_type": "execute_result",
          "data": {
            "text/plain": [
              "0.5622795320238767"
            ]
          },
          "metadata": {},
          "execution_count": 120
        }
      ]
    },
    {
      "cell_type": "code",
      "source": [
        "scores = []\n",
        "for i in range(1000):\n",
        "  X_train,X_test,y_train,y_test = train_test_split(X,y, test_size=0.2, random_state =i)\n",
        "  lr = LinearRegression()\n",
        "  pipe = make_pipeline(column_trans, lr)\n",
        "  pipe.fit(X_train,y_train)\n",
        "  y_pred = pipe.predict(X_test)\n",
        "  scores.append(r2_score(y_test, y_pred))"
      ],
      "metadata": {
        "id": "GJRKNXtVd9ae"
      },
      "execution_count": 123,
      "outputs": []
    },
    {
      "cell_type": "code",
      "source": [
        "import numpy as np"
      ],
      "metadata": {
        "id": "El4UblMkfW4M"
      },
      "execution_count": 124,
      "outputs": []
    },
    {
      "cell_type": "code",
      "source": [
        "np.argmax(scores)"
      ],
      "metadata": {
        "colab": {
          "base_uri": "https://localhost:8080/"
        },
        "id": "ba8MBP-ufJSu",
        "outputId": "0d954a90-57e8-44c3-f4a1-49e8eefd819c"
      },
      "execution_count": 125,
      "outputs": [
        {
          "output_type": "execute_result",
          "data": {
            "text/plain": [
              "661"
            ]
          },
          "metadata": {},
          "execution_count": 125
        }
      ]
    },
    {
      "cell_type": "code",
      "source": [
        "scores[np.argmax(scores)]"
      ],
      "metadata": {
        "colab": {
          "base_uri": "https://localhost:8080/"
        },
        "id": "GfcHjhzpfgQ0",
        "outputId": "336dfddc-3a05-42f6-a5af-2e35e7403180"
      },
      "execution_count": 126,
      "outputs": [
        {
          "output_type": "execute_result",
          "data": {
            "text/plain": [
              "0.889770931767991"
            ]
          },
          "metadata": {},
          "execution_count": 126
        }
      ]
    },
    {
      "cell_type": "code",
      "source": [
        "X_train,X_test,y_train,y_test = train_test_split(X,y, test_size=0.2, random_state =np.argmax(scores))\n",
        "lr = LinearRegression()\n",
        "pipe = make_pipeline(column_trans, lr)\n",
        "pipe.fit(X_train,y_train)\n",
        "y_pred = pipe.predict(X_test)\n",
        "r2_score(y_test,y_pred)"
      ],
      "metadata": {
        "colab": {
          "base_uri": "https://localhost:8080/"
        },
        "id": "aUvMK2lSfi-G",
        "outputId": "b77d32db-7529-42e7-9409-93fed010c7f6"
      },
      "execution_count": 127,
      "outputs": [
        {
          "output_type": "execute_result",
          "data": {
            "text/plain": [
              "0.889770931767991"
            ]
          },
          "metadata": {},
          "execution_count": 127
        }
      ]
    },
    {
      "cell_type": "code",
      "source": [
        "import pickle"
      ],
      "metadata": {
        "id": "ZLN2BC0df5TP"
      },
      "execution_count": 128,
      "outputs": []
    },
    {
      "cell_type": "code",
      "source": [
        "pickle.dump(pipe,open('LinearRegressionModel.pkl','wb'))"
      ],
      "metadata": {
        "id": "FzFbeXJ1f_aQ"
      },
      "execution_count": 131,
      "outputs": []
    }
  ]
}